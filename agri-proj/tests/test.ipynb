{
 "cells": [
  {
   "cell_type": "code",
   "execution_count": 57,
   "id": "84cda7a8-f15c-4afa-9b3d-afda78440b77",
   "metadata": {},
   "outputs": [
    {
     "name": "stdout",
     "output_type": "stream",
     "text": [
      "2.0.1\n"
     ]
    }
   ],
   "source": [
    "import torch\n",
    "import pandas as pd\n",
    "import numpy as np\n",
    "import matplotlib.pyplot as plt\n",
    "print(torch.__version__)"
   ]
  },
  {
   "cell_type": "code",
   "execution_count": 62,
   "id": "2f735b48-4788-4f9f-90f2-c226fb9e8346",
   "metadata": {},
   "outputs": [],
   "source": [
    "randt = torch.randint(low=0,high=255,size=(244,244,3))"
   ]
  },
  {
   "cell_type": "code",
   "execution_count": 63,
   "id": "dc5697e3-17d2-46d2-9933-acb98f00d12b",
   "metadata": {},
   "outputs": [
    {
     "data": {
      "text/plain": [
       "(torch.Size([244, 244, 3]), 3)"
      ]
     },
     "execution_count": 63,
     "metadata": {},
     "output_type": "execute_result"
    }
   ],
   "source": [
    "randt.shape, randt.ndim"
   ]
  },
  {
   "cell_type": "code",
   "execution_count": null,
   "id": "f1ef7ed1-6693-4b45-955e-9629a6e4d633",
   "metadata": {},
   "outputs": [],
   "source": []
  }
 ],
 "metadata": {
  "kernelspec": {
   "display_name": "Python 3 (ipykernel)",
   "language": "python",
   "name": "python3"
  },
  "language_info": {
   "codemirror_mode": {
    "name": "ipython",
    "version": 3
   },
   "file_extension": ".py",
   "mimetype": "text/x-python",
   "name": "python",
   "nbconvert_exporter": "python",
   "pygments_lexer": "ipython3",
   "version": "3.9.18"
  }
 },
 "nbformat": 4,
 "nbformat_minor": 5
}
