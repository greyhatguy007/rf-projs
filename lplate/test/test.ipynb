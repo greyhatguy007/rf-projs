{
 "cells": [
  {
   "cell_type": "code",
   "execution_count": 5,
   "id": "6919319f-38cf-4347-bef7-fb31d27cc425",
   "metadata": {},
   "outputs": [],
   "source": [
    "import numpy as np\n",
    "import pandas as pd\n",
    "import matplotlib.pyplot as plt\n",
    "import cv2\n",
    "import torch\n",
    "import torchvision"
   ]
  },
  {
   "cell_type": "code",
   "execution_count": 7,
   "id": "6111d976-4a6c-47d2-9433-09e9bba89144",
   "metadata": {},
   "outputs": [
    {
     "name": "stderr",
     "output_type": "stream",
     "text": [
      "Using cache found in /home/ritvik/.cache/torch/hub/ultralytics_yolov5_master\n",
      "YOLOv5 🚀 2024-2-7 Python-3.10.13 torch-2.2.0 CUDA:0 (NVIDIA GeForce GTX 1050, 4039MiB)\n",
      "\n",
      "Fusing layers... \n",
      "YOLOv5m summary: 290 layers, 21172173 parameters, 0 gradients, 48.9 GFLOPs\n",
      "Adding AutoShape... \n"
     ]
    }
   ],
   "source": [
    "model_m = torch.hub.load('ultralytics/yolov5', 'yolov5m', pretrained=True)"
   ]
  },
  {
   "cell_type": "code",
   "execution_count": 11,
   "id": "32b64ad2-2951-418e-822a-4ce7a7ac4bd1",
   "metadata": {},
   "outputs": [],
   "source": [
    "model_m = torch.load(\"./yolov5m.pt\")\n",
    "model_s = torch.load(\"./yolov5s.pt\")"
   ]
  },
  {
   "cell_type": "code",
   "execution_count": 14,
   "id": "7357b62c-8125-464c-93a7-477f7990515b",
   "metadata": {},
   "outputs": [
    {
     "ename": "TypeError",
     "evalue": "'dict' object is not callable",
     "output_type": "error",
     "traceback": [
      "\u001b[0;31m---------------------------------------------------------------------------\u001b[0m",
      "\u001b[0;31mTypeError\u001b[0m                                 Traceback (most recent call last)",
      "Cell \u001b[0;32mIn[14], line 2\u001b[0m\n\u001b[1;32m      1\u001b[0m imgs \u001b[38;5;241m=\u001b[39m [\u001b[38;5;124m'\u001b[39m\u001b[38;5;124mhttps://ultralytics.com/images/zidane.jpg\u001b[39m\u001b[38;5;124m'\u001b[39m] \n\u001b[0;32m----> 2\u001b[0m results \u001b[38;5;241m=\u001b[39m \u001b[43mmodel_s\u001b[49m\u001b[43m(\u001b[49m\u001b[43mimgs\u001b[49m\u001b[43m)\u001b[49m\n",
      "\u001b[0;31mTypeError\u001b[0m: 'dict' object is not callable"
     ]
    }
   ],
   "source": [
    "imgs = ['https://ultralytics.com/images/zidane.jpg'] \n",
    "results = model_s(imgs)"
   ]
  },
  {
   "cell_type": "code",
   "execution_count": 15,
   "id": "eb9e0b28-8263-4c4c-b6c1-655454b14b15",
   "metadata": {},
   "outputs": [
    {
     "name": "stderr",
     "output_type": "stream",
     "text": [
      "Using cache found in /home/ritvik/.cache/torch/hub/ultralytics_yolov5_master\n",
      "YOLOv5 🚀 2024-2-7 Python-3.10.13 torch-2.2.0 CUDA:0 (NVIDIA GeForce GTX 1050, 4039MiB)\n",
      "\n",
      "Fusing layers... \n",
      "YOLOv5s summary: 213 layers, 7225885 parameters, 0 gradients, 16.4 GFLOPs\n",
      "Adding AutoShape... \n",
      "WARNING ⚠️ NMS time limit 0.550s exceeded\n",
      "image 1/1: 720x1280 2 persons, 2 ties\n",
      "Speed: 2008.4ms pre-process, 143.5ms inference, 729.3ms NMS per image at shape (1, 3, 384, 640)\n",
      "Saved 1 image to \u001b[1mruns/detect/exp\u001b[0m\n"
     ]
    },
    {
     "data": {
      "text/html": [
       "<div>\n",
       "<style scoped>\n",
       "    .dataframe tbody tr th:only-of-type {\n",
       "        vertical-align: middle;\n",
       "    }\n",
       "\n",
       "    .dataframe tbody tr th {\n",
       "        vertical-align: top;\n",
       "    }\n",
       "\n",
       "    .dataframe thead th {\n",
       "        text-align: right;\n",
       "    }\n",
       "</style>\n",
       "<table border=\"1\" class=\"dataframe\">\n",
       "  <thead>\n",
       "    <tr style=\"text-align: right;\">\n",
       "      <th></th>\n",
       "      <th>xmin</th>\n",
       "      <th>ymin</th>\n",
       "      <th>xmax</th>\n",
       "      <th>ymax</th>\n",
       "      <th>confidence</th>\n",
       "      <th>class</th>\n",
       "      <th>name</th>\n",
       "    </tr>\n",
       "  </thead>\n",
       "  <tbody>\n",
       "    <tr>\n",
       "      <th>0</th>\n",
       "      <td>742.974854</td>\n",
       "      <td>48.395508</td>\n",
       "      <td>1141.844482</td>\n",
       "      <td>720.000000</td>\n",
       "      <td>0.881052</td>\n",
       "      <td>0</td>\n",
       "      <td>person</td>\n",
       "    </tr>\n",
       "    <tr>\n",
       "      <th>1</th>\n",
       "      <td>442.007629</td>\n",
       "      <td>437.522400</td>\n",
       "      <td>496.653992</td>\n",
       "      <td>709.973572</td>\n",
       "      <td>0.675213</td>\n",
       "      <td>27</td>\n",
       "      <td>tie</td>\n",
       "    </tr>\n",
       "    <tr>\n",
       "      <th>2</th>\n",
       "      <td>123.024139</td>\n",
       "      <td>193.287384</td>\n",
       "      <td>715.662231</td>\n",
       "      <td>719.723877</td>\n",
       "      <td>0.665815</td>\n",
       "      <td>0</td>\n",
       "      <td>person</td>\n",
       "    </tr>\n",
       "    <tr>\n",
       "      <th>3</th>\n",
       "      <td>982.803162</td>\n",
       "      <td>308.417358</td>\n",
       "      <td>1027.365845</td>\n",
       "      <td>419.987000</td>\n",
       "      <td>0.260075</td>\n",
       "      <td>27</td>\n",
       "      <td>tie</td>\n",
       "    </tr>\n",
       "  </tbody>\n",
       "</table>\n",
       "</div>"
      ],
      "text/plain": [
       "         xmin        ymin         xmax        ymax  confidence  class    name\n",
       "0  742.974854   48.395508  1141.844482  720.000000    0.881052      0  person\n",
       "1  442.007629  437.522400   496.653992  709.973572    0.675213     27     tie\n",
       "2  123.024139  193.287384   715.662231  719.723877    0.665815      0  person\n",
       "3  982.803162  308.417358  1027.365845  419.987000    0.260075     27     tie"
      ]
     },
     "execution_count": 15,
     "metadata": {},
     "output_type": "execute_result"
    }
   ],
   "source": [
    "import torch\n",
    "\n",
    "# Model\n",
    "model = torch.hub.load('ultralytics/yolov5', 'yolov5s', pretrained=True)\n",
    "\n",
    "# Images\n",
    "imgs = ['https://ultralytics.com/images/zidane.jpg']  # batch of images\n",
    "\n",
    "# Inference\n",
    "results = model(imgs)\n",
    "\n",
    "# Results\n",
    "results.print()\n",
    "results.save()  # or .show()\n",
    "\n",
    "results.xyxy[0]  # img1 predictions (tensor)\n",
    "results.pandas().xyxy[0]  # img1 predictions (pandas)\n",
    "#      xmin    ymin    xmax   ymax  confidence  class    name\n",
    "# 0  749.50   43.50  1148.0  704.5    0.874023      0  person\n",
    "# 1  433.50  433.50   517.5  714.5    0.687988     27     tie\n",
    "# 2  114.75  195.75  1095.0  708.0    0.624512      0  person\n",
    "# 3  986.00  304.00  1028.0  420.0    0.286865     27     tie"
   ]
  },
  {
   "cell_type": "code",
   "execution_count": 20,
   "id": "52b64c56-00f6-4dcc-9b88-d61191b71786",
   "metadata": {},
   "outputs": [
    {
     "data": {
      "text/plain": [
       "('0.15.2a0', '2.0.1')"
      ]
     },
     "execution_count": 20,
     "metadata": {},
     "output_type": "execute_result"
    }
   ],
   "source": []
  },
  {
   "cell_type": "code",
   "execution_count": null,
   "id": "d4394665-2845-4b2e-81f4-a16ab3ce30c1",
   "metadata": {},
   "outputs": [],
   "source": []
  }
 ],
 "metadata": {
  "kernelspec": {
   "display_name": "Python 3 (ipykernel)",
   "language": "python",
   "name": "python3"
  },
  "language_info": {
   "codemirror_mode": {
    "name": "ipython",
    "version": 3
   },
   "file_extension": ".py",
   "mimetype": "text/x-python",
   "name": "python",
   "nbconvert_exporter": "python",
   "pygments_lexer": "ipython3",
   "version": "3.10.13"
  }
 },
 "nbformat": 4,
 "nbformat_minor": 5
}
